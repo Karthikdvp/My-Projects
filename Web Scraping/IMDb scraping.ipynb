{
 "cells": [
  {
   "cell_type": "code",
   "execution_count": 3,
   "id": "86f289b2",
   "metadata": {},
   "outputs": [
    {
     "name": "stdout",
     "output_type": "stream",
     "text": [
      "Requirement already satisfied: bs4 in c:\\users\\hp\\anaconda3\\lib\\site-packages (0.0.1)\n",
      "Requirement already satisfied: beautifulsoup4 in c:\\users\\hp\\anaconda3\\lib\\site-packages (from bs4) (4.10.0)\n",
      "Requirement already satisfied: soupsieve>1.2 in c:\\users\\hp\\anaconda3\\lib\\site-packages (from beautifulsoup4->bs4) (2.2.1)\n",
      "Note: you may need to restart the kernel to use updated packages.\n"
     ]
    }
   ],
   "source": [
    "pip install bs4"
   ]
  },
  {
   "cell_type": "code",
   "execution_count": 4,
   "id": "715d9b3c",
   "metadata": {},
   "outputs": [
    {
     "name": "stdout",
     "output_type": "stream",
     "text": [
      "Requirement already satisfied: requests in c:\\users\\hp\\anaconda3\\lib\\site-packages (2.26.0)\n",
      "Requirement already satisfied: idna<4,>=2.5 in c:\\users\\hp\\anaconda3\\lib\\site-packages (from requests) (3.2)\n",
      "Requirement already satisfied: certifi>=2017.4.17 in c:\\users\\hp\\anaconda3\\lib\\site-packages (from requests) (2021.10.8)\n",
      "Requirement already satisfied: urllib3<1.27,>=1.21.1 in c:\\users\\hp\\anaconda3\\lib\\site-packages (from requests) (1.26.7)\n",
      "Requirement already satisfied: charset-normalizer~=2.0.0 in c:\\users\\hp\\anaconda3\\lib\\site-packages (from requests) (2.0.4)\n",
      "Note: you may need to restart the kernel to use updated packages.\n"
     ]
    }
   ],
   "source": [
    "pip install requests"
   ]
  },
  {
   "cell_type": "code",
   "execution_count": 8,
   "id": "a5832d8e",
   "metadata": {},
   "outputs": [],
   "source": [
    "from bs4 import BeautifulSoup"
   ]
  },
  {
   "cell_type": "code",
   "execution_count": 94,
   "id": "674f67c6",
   "metadata": {},
   "outputs": [],
   "source": [
    "import requests, openpyxl"
   ]
  },
  {
   "cell_type": "code",
   "execution_count": 103,
   "id": "ecd87774",
   "metadata": {},
   "outputs": [],
   "source": [
    "excel = openpyxl.Workbook()"
   ]
  },
  {
   "cell_type": "code",
   "execution_count": 105,
   "id": "0891288e",
   "metadata": {},
   "outputs": [],
   "source": [
    "sheet = excel.active"
   ]
  },
  {
   "cell_type": "code",
   "execution_count": 106,
   "id": "54f4a989",
   "metadata": {},
   "outputs": [],
   "source": [
    "sheet.title = 'Top 250 webseries'"
   ]
  },
  {
   "cell_type": "code",
   "execution_count": 112,
   "id": "0251c932",
   "metadata": {},
   "outputs": [],
   "source": [
    "sheet.append(['Series Rank','Series Name','Released Year','Rating','Key Artists'])"
   ]
  },
  {
   "cell_type": "code",
   "execution_count": 12,
   "id": "22cdce3c",
   "metadata": {},
   "outputs": [],
   "source": [
    "source = requests.get('https://www.imdb.com/chart/toptv/')"
   ]
  },
  {
   "cell_type": "code",
   "execution_count": 15,
   "id": "7c33e97c",
   "metadata": {},
   "outputs": [],
   "source": [
    "soup = BeautifulSoup(source.text,'html.parser')"
   ]
  },
  {
   "cell_type": "code",
   "execution_count": 29,
   "id": "0381e25c",
   "metadata": {},
   "outputs": [],
   "source": [
    "series = soup.find('tbody', class_='lister-list').find_all('tr')"
   ]
  },
  {
   "cell_type": "code",
   "execution_count": 142,
   "id": "ce75f93b",
   "metadata": {},
   "outputs": [],
   "source": [
    "for show in series:\n",
    "    name = show.find('td',class_='titleColumn').a.text\n",
    "    rating = show.find('td',class_='ratingColumn imdbRating').strong.text\n",
    "    rating = float(rating)\n",
    "    key_performers = show.find('td',class_='titleColumn').a['title']\n",
    "    rank = show.find('td',class_='titleColumn').text.strip().replace(' ','').split('.')[0]\n",
    "    rank = int(rank)\n",
    "    year = show.find('td',class_='titleColumn').span.text.strip('()')\n",
    "    year = int(year)\n",
    "    sheet.append([rank, name, year, rating, key_performers])"
   ]
  },
  {
   "cell_type": "code",
   "execution_count": 143,
   "id": "2d710d5c",
   "metadata": {},
   "outputs": [],
   "source": [
    "excel.save('IMDb Series Rating.xlsx')"
   ]
  }
 ],
 "metadata": {
  "kernelspec": {
   "display_name": "Python 3 (ipykernel)",
   "language": "python",
   "name": "python3"
  },
  "language_info": {
   "codemirror_mode": {
    "name": "ipython",
    "version": 3
   },
   "file_extension": ".py",
   "mimetype": "text/x-python",
   "name": "python",
   "nbconvert_exporter": "python",
   "pygments_lexer": "ipython3",
   "version": "3.9.7"
  }
 },
 "nbformat": 4,
 "nbformat_minor": 5
}
